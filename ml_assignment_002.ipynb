{
 "cells": [
  {
   "cell_type": "raw",
   "metadata": {},
   "source": [
    "## create a following pattern\n",
    " *  \n",
    " * *  \n",
    " * * *  \n",
    " * * * *  \n",
    " * * * * *  \n",
    " * * * *  \n",
    " * * *  \n",
    " * *  \n",
    " *  "
   ]
  },
  {
   "cell_type": "code",
   "execution_count": 9,
   "metadata": {},
   "outputs": [
    {
     "name": "stdout",
     "output_type": "stream",
     "text": [
      " \n",
      "*  \n",
      "* *  \n",
      "* * *  \n",
      "* * * *  \n",
      "* * * * *  \n",
      "* * * *  \n",
      "* * *  \n",
      "* *  \n",
      "*  \n"
     ]
    }
   ],
   "source": [
    "a = 10\n",
    "\n",
    "for i in range(a):\n",
    "    if i <=5:\n",
    "        for j in range(i):\n",
    "            print('*', end = ' ')\n",
    "           \n",
    "    else:\n",
    "        for j in range(a-i):\n",
    "            print('*',end= ' ')\n",
    "    print(' ')    \n",
    "   "
   ]
  },
  {
   "cell_type": "markdown",
   "metadata": {},
   "source": [
    "## write a python program to reverse a word after accepting from a user"
   ]
  },
  {
   "cell_type": "code",
   "execution_count": 5,
   "metadata": {},
   "outputs": [
    {
     "name": "stdout",
     "output_type": "stream",
     "text": [
      "enter a word of you're choice: ineuron\n",
      "reverse:  norueni\n"
     ]
    }
   ],
   "source": [
    "word = input(\"enter a word of you're choice: \")\n",
    "word=word[::-1]\n",
    "print('reverse: ',word)"
   ]
  }
 ],
 "metadata": {
  "kernelspec": {
   "display_name": "Python 3",
   "language": "python",
   "name": "python3"
  },
  "language_info": {
   "codemirror_mode": {
    "name": "ipython",
    "version": 3
   },
   "file_extension": ".py",
   "mimetype": "text/x-python",
   "name": "python",
   "nbconvert_exporter": "python",
   "pygments_lexer": "ipython3",
   "version": "3.7.0"
  }
 },
 "nbformat": 4,
 "nbformat_minor": 2
}
