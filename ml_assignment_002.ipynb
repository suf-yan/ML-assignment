{
  "nbformat": 4,
  "nbformat_minor": 0,
  "metadata": {
    "kernelspec": {
      "display_name": "Python 3",
      "language": "python",
      "name": "python3"
    },
    "language_info": {
      "codemirror_mode": {
        "name": "ipython",
        "version": 3
      },
      "file_extension": ".py",
      "mimetype": "text/x-python",
      "name": "python",
      "nbconvert_exporter": "python",
      "pygments_lexer": "ipython3",
      "version": "3.7.0"
    },
    "colab": {
      "name": "ml_assignment_002.ipynb",
      "provenance": [],
      "include_colab_link": true
    }
  },
  "cells": [
    {
      "cell_type": "markdown",
      "metadata": {
        "id": "view-in-github",
        "colab_type": "text"
      },
      "source": [
        "<a href=\"https://colab.research.google.com/github/suf-yan/ML-assignment/blob/master/ml_assignment_002.ipynb\" target=\"_parent\"><img src=\"https://colab.research.google.com/assets/colab-badge.svg\" alt=\"Open In Colab\"/></a>"
      ]
    },
    {
      "cell_type": "markdown",
      "metadata": {
        "id": "rPZwQtIvvqS6",
        "colab_type": "raw"
      },
      "source": [
        "## create a following pattern\n",
        " *  \n",
        " * *  \n",
        " * * *  \n",
        " * * * *  \n",
        " * * * * *  \n",
        " * * * *  \n",
        " * * *  \n",
        " * *  \n",
        " *  "
      ]
    },
    {
      "cell_type": "code",
      "metadata": {
        "id": "ZJ_dpIfXvqS_",
        "colab_type": "code",
        "colab": {},
        "outputId": "99aa6c78-7e3f-42b4-d29b-2266c26e9489"
      },
      "source": [
        "a = 10\n",
        "\n",
        "for i in range(a):\n",
        "    if i <=5:\n",
        "        for j in range(i):\n",
        "            print('*', end = ' ')\n",
        "           \n",
        "    else:\n",
        "        for j in range(a-i):\n",
        "            print('*',end= ' ')\n",
        "    print(' ')    \n",
        "   "
      ],
      "execution_count": null,
      "outputs": [
        {
          "output_type": "stream",
          "text": [
            " \n",
            "*  \n",
            "* *  \n",
            "* * *  \n",
            "* * * *  \n",
            "* * * * *  \n",
            "* * * *  \n",
            "* * *  \n",
            "* *  \n",
            "*  \n"
          ],
          "name": "stdout"
        }
      ]
    },
    {
      "cell_type": "markdown",
      "metadata": {
        "id": "ycbfOBx7vqTP",
        "colab_type": "text"
      },
      "source": [
        "## write a python program to reverse a word after accepting from a user"
      ]
    },
    {
      "cell_type": "code",
      "metadata": {
        "id": "lza89WDcvqTV",
        "colab_type": "code",
        "colab": {},
        "outputId": "78d04212-6e51-47da-947a-e35ea2d7f120"
      },
      "source": [
        "word = input(\"enter a word of you're choice: \")\n",
        "word=word[::-1]\n",
        "print('reverse: ',word)"
      ],
      "execution_count": null,
      "outputs": [
        {
          "output_type": "stream",
          "text": [
            "enter a word of you're choice: ineuron\n",
            "reverse:  norueni\n"
          ],
          "name": "stdout"
        }
      ]
    }
  ]
}